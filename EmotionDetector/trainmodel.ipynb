{
 "cells": [
  {
   "cell_type": "code",
   "execution_count": 1,
   "id": "4c59f284",
   "metadata": {},
   "outputs": [],
   "source": [
    "from keras.utils import to_categorical\n",
    "from keras_preprocessing.image import load_img\n",
    "from keras.models import Sequential\n",
    "from keras.layers import Dense,Conv2D,Flatten, MaxPooling2D, Dropout\n",
    "import os\n",
    "import pandas as pd\n",
    "import numpy as np\n",
    "import mat"
   ]
  },
  {
   "cell_type": "code",
   "execution_count": 2,
   "id": "997fe7a3",
   "metadata": {},
   "outputs": [
    {
     "name": "stdout",
     "output_type": "stream",
     "text": [
      "Requirement already satisfied: pandas in c:\\users\\admin\\.conda\\envs\\tf-new\\lib\\site-packages (2.1.1)\n",
      "Requirement already satisfied: numpy>=1.22.4 in c:\\users\\admin\\.conda\\envs\\tf-new\\lib\\site-packages (from pandas) (1.26.0)\n",
      "Requirement already satisfied: python-dateutil>=2.8.2 in c:\\users\\admin\\.conda\\envs\\tf-new\\lib\\site-packages (from pandas) (2.8.2)\n",
      "Requirement already satisfied: pytz>=2020.1 in c:\\users\\admin\\.conda\\envs\\tf-new\\lib\\site-packages (from pandas) (2023.3.post1)\n",
      "Requirement already satisfied: tzdata>=2022.1 in c:\\users\\admin\\.conda\\envs\\tf-new\\lib\\site-packages (from pandas) (2023.3)\n",
      "Requirement already satisfied: six>=1.5 in c:\\users\\admin\\.conda\\envs\\tf-new\\lib\\site-packages (from python-dateutil>=2.8.2->pandas) (1.16.0)\n",
      "Note: you may need to restart the kernel to use updated packages.\n"
     ]
    }
   ],
   "source": [
    "pip install pandas"
   ]
  },
  {
   "cell_type": "code",
   "execution_count": 3,
   "id": "7706f15f",
   "metadata": {},
   "outputs": [],
   "source": [
    "train_dir='images/train'\n",
    "test_dir='images/test'"
   ]
  },
  {
   "cell_type": "code",
   "execution_count": 4,
   "id": "2658376d",
   "metadata": {},
   "outputs": [],
   "source": [
    "def createdataframe(dir):\n",
    "    labels=[]\n",
    "    image_paths=[]\n",
    "    for label in os.listdir(dir):\n",
    "        for imagename in os.listdir(os.path.join(dir,label)):\n",
    "            image_paths.append(os.path.join(dir,label,imagename))\n",
    "            labels.append(label)\n",
    "        print(label,\"completed\")\n",
    "    return image_paths,labels"
   ]
  },
  {
   "cell_type": "code",
   "execution_count": 5,
   "id": "4381b7bb",
   "metadata": {},
   "outputs": [
    {
     "name": "stdout",
     "output_type": "stream",
     "text": [
      "Requirement already satisfied: tqdm in c:\\users\\admin\\.conda\\envs\\tf-new\\lib\\site-packages (4.66.1)Note: you may need to restart the kernel to use updated packages.\n",
      "\n",
      "Requirement already satisfied: colorama in c:\\users\\admin\\.conda\\envs\\tf-new\\lib\\site-packages (from tqdm) (0.4.6)\n"
     ]
    }
   ],
   "source": [
    "pip install tqdm"
   ]
  },
  {
   "cell_type": "code",
   "execution_count": 6,
   "id": "fa7f8f10",
   "metadata": {},
   "outputs": [],
   "source": [
    "from tqdm.notebook import tqdm"
   ]
  },
  {
   "cell_type": "code",
   "execution_count": 7,
   "id": "71e61681",
   "metadata": {},
   "outputs": [
    {
     "name": "stdout",
     "output_type": "stream",
     "text": [
      "angry completed\n",
      "disgust completed\n",
      "fear completed\n",
      "happy completed\n",
      "neutral completed\n",
      "sad completed\n",
      "surprise completed\n"
     ]
    }
   ],
   "source": [
    "train=pd.DataFrame()\n",
    "train['image'],train['label']=createdataframe(train_dir)"
   ]
  },
  {
   "cell_type": "code",
   "execution_count": 8,
   "id": "025f48ae",
   "metadata": {},
   "outputs": [
    {
     "name": "stdout",
     "output_type": "stream",
     "text": [
      "                                image     label\n",
      "0            images/train\\angry\\0.jpg     angry\n",
      "1            images/train\\angry\\1.jpg     angry\n",
      "2           images/train\\angry\\10.jpg     angry\n",
      "3        images/train\\angry\\10002.jpg     angry\n",
      "4        images/train\\angry\\10016.jpg     angry\n",
      "...                               ...       ...\n",
      "28816  images/train\\surprise\\9969.jpg  surprise\n",
      "28817  images/train\\surprise\\9985.jpg  surprise\n",
      "28818  images/train\\surprise\\9990.jpg  surprise\n",
      "28819  images/train\\surprise\\9992.jpg  surprise\n",
      "28820  images/train\\surprise\\9996.jpg  surprise\n",
      "\n",
      "[28821 rows x 2 columns]\n",
      "0              images/train\\angry\\0.jpg\n",
      "1              images/train\\angry\\1.jpg\n",
      "2             images/train\\angry\\10.jpg\n",
      "3          images/train\\angry\\10002.jpg\n",
      "4          images/train\\angry\\10016.jpg\n",
      "                      ...              \n",
      "28816    images/train\\surprise\\9969.jpg\n",
      "28817    images/train\\surprise\\9985.jpg\n",
      "28818    images/train\\surprise\\9990.jpg\n",
      "28819    images/train\\surprise\\9992.jpg\n",
      "28820    images/train\\surprise\\9996.jpg\n",
      "Name: image, Length: 28821, dtype: object\n"
     ]
    }
   ],
   "source": [
    "print(train)\n",
    "print(train['image'])"
   ]
  },
  {
   "cell_type": "code",
   "execution_count": 9,
   "id": "57c4e248",
   "metadata": {},
   "outputs": [
    {
     "name": "stdout",
     "output_type": "stream",
     "text": [
      "angry completed\n",
      "disgust completed\n",
      "fear completed\n",
      "happy completed\n",
      "neutral completed\n",
      "sad completed\n",
      "surprise completed\n"
     ]
    }
   ],
   "source": [
    "test=pd.DataFrame()\n",
    "test['image'],test['label']=createdataframe(test_dir)"
   ]
  },
  {
   "cell_type": "code",
   "execution_count": 10,
   "id": "3df17efe",
   "metadata": {},
   "outputs": [
    {
     "name": "stdout",
     "output_type": "stream",
     "text": [
      "                              image     label\n",
      "0       images/test\\angry\\10052.jpg     angry\n",
      "1       images/test\\angry\\10065.jpg     angry\n",
      "2       images/test\\angry\\10079.jpg     angry\n",
      "3       images/test\\angry\\10095.jpg     angry\n",
      "4       images/test\\angry\\10121.jpg     angry\n",
      "...                             ...       ...\n",
      "7061  images/test\\surprise\\9806.jpg  surprise\n",
      "7062  images/test\\surprise\\9830.jpg  surprise\n",
      "7063  images/test\\surprise\\9853.jpg  surprise\n",
      "7064  images/test\\surprise\\9878.jpg  surprise\n",
      "7065   images/test\\surprise\\993.jpg  surprise\n",
      "\n",
      "[7066 rows x 2 columns]\n"
     ]
    }
   ],
   "source": [
    "print(test)"
   ]
  },
  {
   "cell_type": "code",
   "execution_count": 11,
   "id": "4aad60bf",
   "metadata": {},
   "outputs": [
    {
     "name": "stdout",
     "output_type": "stream",
     "text": [
      "Requirement already satisfied: ipywidgets in c:\\users\\admin\\.conda\\envs\\tf-new\\lib\\site-packages (8.1.1)\n",
      "Requirement already satisfied: comm>=0.1.3 in c:\\users\\admin\\.conda\\envs\\tf-new\\lib\\site-packages (from ipywidgets) (0.1.4)\n",
      "Requirement already satisfied: ipython>=6.1.0 in c:\\users\\admin\\.conda\\envs\\tf-new\\lib\\site-packages (from ipywidgets) (8.15.0)\n",
      "Requirement already satisfied: traitlets>=4.3.1 in c:\\users\\admin\\.conda\\envs\\tf-new\\lib\\site-packages (from ipywidgets) (5.7.1)\n",
      "Requirement already satisfied: widgetsnbextension~=4.0.9 in c:\\users\\admin\\.conda\\envs\\tf-new\\lib\\site-packages (from ipywidgets) (4.0.9)\n",
      "Requirement already satisfied: jupyterlab-widgets~=3.0.9 in c:\\users\\admin\\.conda\\envs\\tf-new\\lib\\site-packages (from ipywidgets) (3.0.9)\n",
      "Requirement already satisfied: backcall in c:\\users\\admin\\.conda\\envs\\tf-new\\lib\\site-packages (from ipython>=6.1.0->ipywidgets) (0.2.0)\n",
      "Requirement already satisfied: decorator in c:\\users\\admin\\.conda\\envs\\tf-new\\lib\\site-packages (from ipython>=6.1.0->ipywidgets) (5.1.1)\n",
      "Requirement already satisfied: jedi>=0.16 in c:\\users\\admin\\.conda\\envs\\tf-new\\lib\\site-packages (from ipython>=6.1.0->ipywidgets) (0.18.1)\n",
      "Requirement already satisfied: matplotlib-inline in c:\\users\\admin\\.conda\\envs\\tf-new\\lib\\site-packages (from ipython>=6.1.0->ipywidgets) (0.1.6)\n",
      "Requirement already satisfied: pickleshare in c:\\users\\admin\\.conda\\envs\\tf-new\\lib\\site-packages (from ipython>=6.1.0->ipywidgets) (0.7.5)\n",
      "Requirement already satisfied: prompt-toolkit!=3.0.37,<3.1.0,>=3.0.30 in c:\\users\\admin\\.conda\\envs\\tf-new\\lib\\site-packages (from ipython>=6.1.0->ipywidgets) (3.0.36)\n",
      "Requirement already satisfied: pygments>=2.4.0 in c:\\users\\admin\\.conda\\envs\\tf-new\\lib\\site-packages (from ipython>=6.1.0->ipywidgets) (2.15.1)\n",
      "Requirement already satisfied: stack-data in c:\\users\\admin\\.conda\\envs\\tf-new\\lib\\site-packages (from ipython>=6.1.0->ipywidgets) (0.2.0)\n",
      "Requirement already satisfied: typing-extensions in c:\\users\\admin\\.conda\\envs\\tf-new\\lib\\site-packages (from ipython>=6.1.0->ipywidgets) (4.7.1)\n",
      "Requirement already satisfied: exceptiongroup in c:\\users\\admin\\.conda\\envs\\tf-new\\lib\\site-packages (from ipython>=6.1.0->ipywidgets) (1.0.4)\n",
      "Requirement already satisfied: colorama in c:\\users\\admin\\.conda\\envs\\tf-new\\lib\\site-packages (from ipython>=6.1.0->ipywidgets) (0.4.6)\n",
      "Requirement already satisfied: parso<0.9.0,>=0.8.0 in c:\\users\\admin\\.conda\\envs\\tf-new\\lib\\site-packages (from jedi>=0.16->ipython>=6.1.0->ipywidgets) (0.8.3)\n",
      "Requirement already satisfied: wcwidth in c:\\users\\admin\\.conda\\envs\\tf-new\\lib\\site-packages (from prompt-toolkit!=3.0.37,<3.1.0,>=3.0.30->ipython>=6.1.0->ipywidgets) (0.2.5)\n",
      "Requirement already satisfied: executing in c:\\users\\admin\\.conda\\envs\\tf-new\\lib\\site-packages (from stack-data->ipython>=6.1.0->ipywidgets) (0.8.3)\n",
      "Requirement already satisfied: asttokens in c:\\users\\admin\\.conda\\envs\\tf-new\\lib\\site-packages (from stack-data->ipython>=6.1.0->ipywidgets) (2.0.5)\n",
      "Requirement already satisfied: pure-eval in c:\\users\\admin\\.conda\\envs\\tf-new\\lib\\site-packages (from stack-data->ipython>=6.1.0->ipywidgets) (0.2.2)\n",
      "Requirement already satisfied: six in c:\\users\\admin\\.conda\\envs\\tf-new\\lib\\site-packages (from asttokens->stack-data->ipython>=6.1.0->ipywidgets) (1.16.0)\n",
      "Note: you may need to restart the kernel to use updated packages.\n"
     ]
    }
   ],
   "source": [
    "pip install ipywidgets"
   ]
  },
  {
   "cell_type": "code",
   "execution_count": 12,
   "id": "174312a5",
   "metadata": {},
   "outputs": [
    {
     "name": "stdout",
     "output_type": "stream",
     "text": [
      "Requirement already satisfied: pillow in c:\\users\\admin\\.conda\\envs\\tf-new\\lib\\site-packages (10.1.0)\n",
      "Note: you may need to restart the kernel to use updated packages.\n"
     ]
    }
   ],
   "source": [
    "pip install pillow"
   ]
  },
  {
   "cell_type": "code",
   "execution_count": 13,
   "id": "cd521d1f",
   "metadata": {},
   "outputs": [],
   "source": [
    "def extract_features(images):\n",
    "    features=[]\n",
    "    for image in tqdm(images):\n",
    "        img=load_img(image, grayscale=True)\n",
    "        img=np.array(img)\n",
    "        features.append(img)\n",
    "    features=np.array(features)\n",
    "    features=features.reshape(len(features),48,48,1)\n",
    "    return features\n",
    "    "
   ]
  },
  {
   "cell_type": "code",
   "execution_count": 14,
   "id": "c671e3e0",
   "metadata": {},
   "outputs": [
    {
     "data": {
      "application/vnd.jupyter.widget-view+json": {
       "model_id": "16f881fa13e745629a6ef38a3c0094d9",
       "version_major": 2,
       "version_minor": 0
      },
      "text/plain": [
       "  0%|          | 0/28821 [00:00<?, ?it/s]"
      ]
     },
     "metadata": {},
     "output_type": "display_data"
    },
    {
     "name": "stderr",
     "output_type": "stream",
     "text": [
      "C:\\Users\\ADMIN\\.conda\\envs\\tf-new\\lib\\site-packages\\keras_preprocessing\\image\\utils.py:107: UserWarning: grayscale is deprecated. Please use color_mode = \"grayscale\"\n",
      "  warnings.warn('grayscale is deprecated. Please use '\n"
     ]
    }
   ],
   "source": [
    "train_features=extract_features(train['image'])"
   ]
  },
  {
   "cell_type": "code",
   "execution_count": 15,
   "id": "169c5465",
   "metadata": {},
   "outputs": [
    {
     "data": {
      "application/vnd.jupyter.widget-view+json": {
       "model_id": "0b73ba922c9a47688c55e89941bf36ef",
       "version_major": 2,
       "version_minor": 0
      },
      "text/plain": [
       "  0%|          | 0/7066 [00:00<?, ?it/s]"
      ]
     },
     "metadata": {},
     "output_type": "display_data"
    }
   ],
   "source": [
    "test_features=extract_features(test['image'])"
   ]
  },
  {
   "cell_type": "code",
   "execution_count": 16,
   "id": "3d594ddb",
   "metadata": {},
   "outputs": [],
   "source": [
    "x_train=train_features/255.0\n",
    "x_test=test_features/255.0"
   ]
  },
  {
   "cell_type": "code",
   "execution_count": 17,
   "id": "9b6dc10d",
   "metadata": {},
   "outputs": [
    {
     "name": "stdout",
     "output_type": "stream",
     "text": [
      "Requirement already satisfied: scikit-learn in c:\\users\\admin\\.conda\\envs\\tf-new\\lib\\site-packages (1.3.1)\n",
      "Requirement already satisfied: numpy<2.0,>=1.17.3 in c:\\users\\admin\\.conda\\envs\\tf-new\\lib\\site-packages (from scikit-learn) (1.26.0)\n",
      "Requirement already satisfied: scipy>=1.5.0 in c:\\users\\admin\\.conda\\envs\\tf-new\\lib\\site-packages (from scikit-learn) (1.11.3)\n",
      "Requirement already satisfied: joblib>=1.1.1 in c:\\users\\admin\\.conda\\envs\\tf-new\\lib\\site-packages (from scikit-learn) (1.3.2)\n",
      "Requirement already satisfied: threadpoolctl>=2.0.0 in c:\\users\\admin\\.conda\\envs\\tf-new\\lib\\site-packages (from scikit-learn) (3.2.0)\n",
      "Note: you may need to restart the kernel to use updated packages.\n"
     ]
    }
   ],
   "source": [
    "pip install -U scikit-learn "
   ]
  },
  {
   "cell_type": "code",
   "execution_count": 18,
   "id": "ef66b335",
   "metadata": {},
   "outputs": [],
   "source": [
    "from sklearn.preprocessing import LabelEncoder"
   ]
  },
  {
   "cell_type": "code",
   "execution_count": 19,
   "id": "53758a27",
   "metadata": {},
   "outputs": [
    {
     "data": {
      "text/html": [
       "<style>#sk-container-id-1 {color: black;}#sk-container-id-1 pre{padding: 0;}#sk-container-id-1 div.sk-toggleable {background-color: white;}#sk-container-id-1 label.sk-toggleable__label {cursor: pointer;display: block;width: 100%;margin-bottom: 0;padding: 0.3em;box-sizing: border-box;text-align: center;}#sk-container-id-1 label.sk-toggleable__label-arrow:before {content: \"▸\";float: left;margin-right: 0.25em;color: #696969;}#sk-container-id-1 label.sk-toggleable__label-arrow:hover:before {color: black;}#sk-container-id-1 div.sk-estimator:hover label.sk-toggleable__label-arrow:before {color: black;}#sk-container-id-1 div.sk-toggleable__content {max-height: 0;max-width: 0;overflow: hidden;text-align: left;background-color: #f0f8ff;}#sk-container-id-1 div.sk-toggleable__content pre {margin: 0.2em;color: black;border-radius: 0.25em;background-color: #f0f8ff;}#sk-container-id-1 input.sk-toggleable__control:checked~div.sk-toggleable__content {max-height: 200px;max-width: 100%;overflow: auto;}#sk-container-id-1 input.sk-toggleable__control:checked~label.sk-toggleable__label-arrow:before {content: \"▾\";}#sk-container-id-1 div.sk-estimator input.sk-toggleable__control:checked~label.sk-toggleable__label {background-color: #d4ebff;}#sk-container-id-1 div.sk-label input.sk-toggleable__control:checked~label.sk-toggleable__label {background-color: #d4ebff;}#sk-container-id-1 input.sk-hidden--visually {border: 0;clip: rect(1px 1px 1px 1px);clip: rect(1px, 1px, 1px, 1px);height: 1px;margin: -1px;overflow: hidden;padding: 0;position: absolute;width: 1px;}#sk-container-id-1 div.sk-estimator {font-family: monospace;background-color: #f0f8ff;border: 1px dotted black;border-radius: 0.25em;box-sizing: border-box;margin-bottom: 0.5em;}#sk-container-id-1 div.sk-estimator:hover {background-color: #d4ebff;}#sk-container-id-1 div.sk-parallel-item::after {content: \"\";width: 100%;border-bottom: 1px solid gray;flex-grow: 1;}#sk-container-id-1 div.sk-label:hover label.sk-toggleable__label {background-color: #d4ebff;}#sk-container-id-1 div.sk-serial::before {content: \"\";position: absolute;border-left: 1px solid gray;box-sizing: border-box;top: 0;bottom: 0;left: 50%;z-index: 0;}#sk-container-id-1 div.sk-serial {display: flex;flex-direction: column;align-items: center;background-color: white;padding-right: 0.2em;padding-left: 0.2em;position: relative;}#sk-container-id-1 div.sk-item {position: relative;z-index: 1;}#sk-container-id-1 div.sk-parallel {display: flex;align-items: stretch;justify-content: center;background-color: white;position: relative;}#sk-container-id-1 div.sk-item::before, #sk-container-id-1 div.sk-parallel-item::before {content: \"\";position: absolute;border-left: 1px solid gray;box-sizing: border-box;top: 0;bottom: 0;left: 50%;z-index: -1;}#sk-container-id-1 div.sk-parallel-item {display: flex;flex-direction: column;z-index: 1;position: relative;background-color: white;}#sk-container-id-1 div.sk-parallel-item:first-child::after {align-self: flex-end;width: 50%;}#sk-container-id-1 div.sk-parallel-item:last-child::after {align-self: flex-start;width: 50%;}#sk-container-id-1 div.sk-parallel-item:only-child::after {width: 0;}#sk-container-id-1 div.sk-dashed-wrapped {border: 1px dashed gray;margin: 0 0.4em 0.5em 0.4em;box-sizing: border-box;padding-bottom: 0.4em;background-color: white;}#sk-container-id-1 div.sk-label label {font-family: monospace;font-weight: bold;display: inline-block;line-height: 1.2em;}#sk-container-id-1 div.sk-label-container {text-align: center;}#sk-container-id-1 div.sk-container {/* jupyter's `normalize.less` sets `[hidden] { display: none; }` but bootstrap.min.css set `[hidden] { display: none !important; }` so we also need the `!important` here to be able to override the default hidden behavior on the sphinx rendered scikit-learn.org. See: https://github.com/scikit-learn/scikit-learn/issues/21755 */display: inline-block !important;position: relative;}#sk-container-id-1 div.sk-text-repr-fallback {display: none;}</style><div id=\"sk-container-id-1\" class=\"sk-top-container\"><div class=\"sk-text-repr-fallback\"><pre>LabelEncoder()</pre><b>In a Jupyter environment, please rerun this cell to show the HTML representation or trust the notebook. <br />On GitHub, the HTML representation is unable to render, please try loading this page with nbviewer.org.</b></div><div class=\"sk-container\" hidden><div class=\"sk-item\"><div class=\"sk-estimator sk-toggleable\"><input class=\"sk-toggleable__control sk-hidden--visually\" id=\"sk-estimator-id-1\" type=\"checkbox\" checked><label for=\"sk-estimator-id-1\" class=\"sk-toggleable__label sk-toggleable__label-arrow\">LabelEncoder</label><div class=\"sk-toggleable__content\"><pre>LabelEncoder()</pre></div></div></div></div></div>"
      ],
      "text/plain": [
       "LabelEncoder()"
      ]
     },
     "execution_count": 19,
     "metadata": {},
     "output_type": "execute_result"
    }
   ],
   "source": [
    "le=LabelEncoder()\n",
    "le.fit(train['label'])"
   ]
  },
  {
   "cell_type": "code",
   "execution_count": 20,
   "id": "ed474946",
   "metadata": {},
   "outputs": [],
   "source": [
    "y_train=le.transform(train['label'])\n",
    "\n",
    "y_test=le.transform(test['label'])"
   ]
  },
  {
   "cell_type": "code",
   "execution_count": 21,
   "id": "68b11801",
   "metadata": {},
   "outputs": [],
   "source": [
    "y_train=to_categorical(y_train, num_classes=7)\n",
    "y_test=to_categorical(y_test, num_classes=7)"
   ]
  },
  {
   "cell_type": "code",
   "execution_count": 22,
   "id": "7b046565",
   "metadata": {},
   "outputs": [
    {
     "name": "stdout",
     "output_type": "stream",
     "text": [
      "Note: you may need to restart the kernel to use updated packages.\n"
     ]
    },
    {
     "name": "stderr",
     "output_type": "stream",
     "text": [
      "ERROR: Could not find a version that satisfies the requirement Maxpooling2D (from versions: none)\n",
      "ERROR: No matching distribution found for Maxpooling2D\n"
     ]
    }
   ],
   "source": [
    "pip install Maxpooling2D "
   ]
  },
  {
   "cell_type": "code",
   "execution_count": 23,
   "id": "f5fd0f2f",
   "metadata": {},
   "outputs": [
    {
     "name": "stdout",
     "output_type": "stream",
     "text": [
      "Note: you may need to restart the kernel to use updated packages.\n"
     ]
    },
    {
     "name": "stderr",
     "output_type": "stream",
     "text": [
      "ERROR: Could not find a version that satisfies the requirement Dropout (from versions: none)\n",
      "ERROR: No matching distribution found for Dropout\n"
     ]
    }
   ],
   "source": [
    "pip install Dropout"
   ]
  },
  {
   "cell_type": "code",
   "execution_count": 25,
   "id": "372bccb1",
   "metadata": {},
   "outputs": [],
   "source": [
    "model = Sequential()\n",
    "# convolutional layers\n",
    "model.add(Conv2D(128, kernel_size=(3,3), activation='relu', input_shape=(48,48,1)))\n",
    "model.add(MaxPooling2D(pool_size=(2,2)))\n",
    "model.add(Dropout(0.4))\n",
    "\n",
    "model.add(Conv2D(256, kernel_size=(3,3), activation='relu'))\n",
    "model.add(MaxPooling2D(pool_size=(2,2)))\n",
    "model.add(Dropout(0.4))\n",
    "\n",
    "model.add(Conv2D(512, kernel_size=(3,3), activation='relu'))\n",
    "model.add(MaxPooling2D(pool_size=(2,2)))\n",
    "model.add(Dropout(0.4))\n",
    "\n",
    "model.add(Conv2D(512, kernel_size=(3,3), activation='relu'))\n",
    "model.add(MaxPooling2D(pool_size=(2,2)))\n",
    "model.add(Dropout(0.4))\n",
    "\n",
    "model.add(Flatten())\n",
    "# fully connected layers\n",
    "model.add(Dense(512, activation='relu'))\n",
    "model.add(Dropout(0.4))\n",
    "model.add(Dense(256, activation='relu'))\n",
    "model.add(Dropout(0.3))\n",
    "# output layer\n",
    "model.add(Dense(7, activation='softmax'))"
   ]
  },
  {
   "cell_type": "code",
   "execution_count": 26,
   "id": "28c285f4",
   "metadata": {},
   "outputs": [],
   "source": [
    "model.compile(optimizer = 'adam', loss = 'categorical_crossentropy', metrics = 'accuracy' )"
   ]
  },
  {
   "cell_type": "code",
   "execution_count": 27,
   "id": "ffcf4e62",
   "metadata": {},
   "outputs": [
    {
     "name": "stdout",
     "output_type": "stream",
     "text": [
      "Epoch 1/100\n",
      "226/226 [==============================] - 254s 1s/step - loss: 1.8244 - accuracy: 0.2444 - val_loss: 1.8115 - val_accuracy: 0.2583\n",
      "Epoch 2/100\n",
      "226/226 [==============================] - 282s 1s/step - loss: 1.8110 - accuracy: 0.2491 - val_loss: 1.7898 - val_accuracy: 0.2569\n",
      "Epoch 3/100\n",
      "226/226 [==============================] - 275s 1s/step - loss: 1.7785 - accuracy: 0.2600 - val_loss: 1.7083 - val_accuracy: 0.3190\n",
      "Epoch 4/100\n",
      "226/226 [==============================] - 256s 1s/step - loss: 1.6875 - accuracy: 0.3177 - val_loss: 1.6339 - val_accuracy: 0.3507\n",
      "Epoch 5/100\n",
      "226/226 [==============================] - 255s 1s/step - loss: 1.5661 - accuracy: 0.3831 - val_loss: 1.4353 - val_accuracy: 0.4465\n",
      "Epoch 6/100\n",
      "226/226 [==============================] - 256s 1s/step - loss: 1.4832 - accuracy: 0.4227 - val_loss: 1.3792 - val_accuracy: 0.4650\n",
      "Epoch 7/100\n",
      "226/226 [==============================] - 254s 1s/step - loss: 1.4327 - accuracy: 0.4441 - val_loss: 1.3331 - val_accuracy: 0.4926\n",
      "Epoch 8/100\n",
      "226/226 [==============================] - 255s 1s/step - loss: 1.3925 - accuracy: 0.4629 - val_loss: 1.2861 - val_accuracy: 0.5116\n",
      "Epoch 9/100\n",
      "226/226 [==============================] - 254s 1s/step - loss: 1.3671 - accuracy: 0.4747 - val_loss: 1.2834 - val_accuracy: 0.5137\n",
      "Epoch 10/100\n",
      "226/226 [==============================] - 298s 1s/step - loss: 1.3421 - accuracy: 0.4859 - val_loss: 1.2315 - val_accuracy: 0.5382\n",
      "Epoch 11/100\n",
      "226/226 [==============================] - 282s 1s/step - loss: 1.3157 - accuracy: 0.4950 - val_loss: 1.2051 - val_accuracy: 0.5408\n",
      "Epoch 12/100\n",
      "226/226 [==============================] - 277s 1s/step - loss: 1.2968 - accuracy: 0.5056 - val_loss: 1.1948 - val_accuracy: 0.5449\n",
      "Epoch 13/100\n",
      "226/226 [==============================] - 279s 1s/step - loss: 1.2802 - accuracy: 0.5103 - val_loss: 1.1923 - val_accuracy: 0.5507\n",
      "Epoch 14/100\n",
      "226/226 [==============================] - 278s 1s/step - loss: 1.2673 - accuracy: 0.5144 - val_loss: 1.1711 - val_accuracy: 0.5580\n",
      "Epoch 15/100\n",
      "226/226 [==============================] - 280s 1s/step - loss: 1.2481 - accuracy: 0.5235 - val_loss: 1.1644 - val_accuracy: 0.5541\n",
      "Epoch 16/100\n",
      "226/226 [==============================] - 279s 1s/step - loss: 1.2349 - accuracy: 0.5289 - val_loss: 1.1448 - val_accuracy: 0.5747\n",
      "Epoch 17/100\n",
      "226/226 [==============================] - 279s 1s/step - loss: 1.2248 - accuracy: 0.5341 - val_loss: 1.1427 - val_accuracy: 0.5691\n",
      "Epoch 18/100\n",
      "226/226 [==============================] - 276s 1s/step - loss: 1.2078 - accuracy: 0.5401 - val_loss: 1.1325 - val_accuracy: 0.5785\n",
      "Epoch 19/100\n",
      "226/226 [==============================] - 262s 1s/step - loss: 1.2007 - accuracy: 0.5450 - val_loss: 1.1535 - val_accuracy: 0.5628\n",
      "Epoch 20/100\n",
      "226/226 [==============================] - 261s 1s/step - loss: 1.1835 - accuracy: 0.5494 - val_loss: 1.1229 - val_accuracy: 0.5826\n",
      "Epoch 21/100\n",
      "226/226 [==============================] - 277s 1s/step - loss: 1.1774 - accuracy: 0.5512 - val_loss: 1.1301 - val_accuracy: 0.5781\n",
      "Epoch 22/100\n",
      "226/226 [==============================] - 283s 1s/step - loss: 1.1719 - accuracy: 0.5528 - val_loss: 1.1100 - val_accuracy: 0.5849\n",
      "Epoch 23/100\n",
      "226/226 [==============================] - 296s 1s/step - loss: 1.1589 - accuracy: 0.5630 - val_loss: 1.1150 - val_accuracy: 0.5875\n",
      "Epoch 24/100\n",
      "226/226 [==============================] - 279s 1s/step - loss: 1.1514 - accuracy: 0.5623 - val_loss: 1.1054 - val_accuracy: 0.5920\n",
      "Epoch 25/100\n",
      "226/226 [==============================] - 280s 1s/step - loss: 1.1413 - accuracy: 0.5692 - val_loss: 1.1134 - val_accuracy: 0.5839\n",
      "Epoch 26/100\n",
      "226/226 [==============================] - 277s 1s/step - loss: 1.1364 - accuracy: 0.5709 - val_loss: 1.0855 - val_accuracy: 0.5960\n",
      "Epoch 27/100\n",
      "226/226 [==============================] - 269s 1s/step - loss: 1.1214 - accuracy: 0.5754 - val_loss: 1.0964 - val_accuracy: 0.5928\n",
      "Epoch 28/100\n",
      "226/226 [==============================] - 260s 1s/step - loss: 1.1204 - accuracy: 0.5725 - val_loss: 1.0848 - val_accuracy: 0.5923\n",
      "Epoch 29/100\n",
      "226/226 [==============================] - 269s 1s/step - loss: 1.1148 - accuracy: 0.5775 - val_loss: 1.0776 - val_accuracy: 0.5985\n",
      "Epoch 30/100\n",
      "226/226 [==============================] - 324s 1s/step - loss: 1.1033 - accuracy: 0.5842 - val_loss: 1.0902 - val_accuracy: 0.5968\n",
      "Epoch 31/100\n",
      "226/226 [==============================] - 279s 1s/step - loss: 1.0953 - accuracy: 0.5854 - val_loss: 1.0713 - val_accuracy: 0.6008\n",
      "Epoch 32/100\n",
      "226/226 [==============================] - 258s 1s/step - loss: 1.0942 - accuracy: 0.5871 - val_loss: 1.0872 - val_accuracy: 0.5903\n",
      "Epoch 33/100\n",
      "226/226 [==============================] - 262s 1s/step - loss: 1.0826 - accuracy: 0.5937 - val_loss: 1.0769 - val_accuracy: 0.5948\n",
      "Epoch 34/100\n",
      "226/226 [==============================] - 259s 1s/step - loss: 1.0720 - accuracy: 0.5958 - val_loss: 1.0604 - val_accuracy: 0.6046\n",
      "Epoch 35/100\n",
      "226/226 [==============================] - 260s 1s/step - loss: 1.0656 - accuracy: 0.5966 - val_loss: 1.0708 - val_accuracy: 0.6036\n",
      "Epoch 36/100\n",
      "226/226 [==============================] - 260s 1s/step - loss: 1.0554 - accuracy: 0.6036 - val_loss: 1.0623 - val_accuracy: 0.6039\n",
      "Epoch 37/100\n",
      "226/226 [==============================] - 279s 1s/step - loss: 1.0584 - accuracy: 0.5991 - val_loss: 1.0694 - val_accuracy: 0.6032\n",
      "Epoch 38/100\n",
      "226/226 [==============================] - 339s 2s/step - loss: 1.0443 - accuracy: 0.6066 - val_loss: 1.0562 - val_accuracy: 0.6073\n",
      "Epoch 39/100\n",
      "226/226 [==============================] - 315s 1s/step - loss: 1.0394 - accuracy: 0.6089 - val_loss: 1.0513 - val_accuracy: 0.6095\n",
      "Epoch 40/100\n",
      "226/226 [==============================] - 269s 1s/step - loss: 1.0366 - accuracy: 0.6094 - val_loss: 1.0572 - val_accuracy: 0.6033\n",
      "Epoch 41/100\n",
      "226/226 [==============================] - 21444s 95s/step - loss: 1.0294 - accuracy: 0.6124 - val_loss: 1.0546 - val_accuracy: 0.6005\n",
      "Epoch 42/100\n",
      "226/226 [==============================] - 261s 1s/step - loss: 1.0274 - accuracy: 0.6155 - val_loss: 1.0414 - val_accuracy: 0.6177\n",
      "Epoch 43/100\n",
      "226/226 [==============================] - 1556s 7s/step - loss: 1.0100 - accuracy: 0.6198 - val_loss: 1.0516 - val_accuracy: 0.6093\n",
      "Epoch 44/100\n",
      "226/226 [==============================] - 384s 2s/step - loss: 1.0070 - accuracy: 0.6200 - val_loss: 1.0469 - val_accuracy: 0.6127\n",
      "Epoch 45/100\n",
      "226/226 [==============================] - 263s 1s/step - loss: 1.0129 - accuracy: 0.6188 - val_loss: 1.0589 - val_accuracy: 0.6101\n",
      "Epoch 46/100\n",
      "226/226 [==============================] - 263s 1s/step - loss: 1.0026 - accuracy: 0.6268 - val_loss: 1.0589 - val_accuracy: 0.6084\n",
      "Epoch 47/100\n",
      "226/226 [==============================] - 265s 1s/step - loss: 0.9898 - accuracy: 0.6296 - val_loss: 1.0419 - val_accuracy: 0.6122\n",
      "Epoch 48/100\n",
      "226/226 [==============================] - 262s 1s/step - loss: 0.9907 - accuracy: 0.6262 - val_loss: 1.0378 - val_accuracy: 0.6182\n",
      "Epoch 49/100\n",
      "226/226 [==============================] - 266s 1s/step - loss: 0.9787 - accuracy: 0.6316 - val_loss: 1.0322 - val_accuracy: 0.6200\n",
      "Epoch 50/100\n",
      "226/226 [==============================] - 264s 1s/step - loss: 0.9774 - accuracy: 0.6354 - val_loss: 1.0324 - val_accuracy: 0.6183\n",
      "Epoch 51/100\n",
      "226/226 [==============================] - 1040s 5s/step - loss: 0.9743 - accuracy: 0.6341 - val_loss: 1.0429 - val_accuracy: 0.6122\n",
      "Epoch 52/100\n",
      "226/226 [==============================] - 253s 1s/step - loss: 0.9634 - accuracy: 0.6397 - val_loss: 1.0385 - val_accuracy: 0.6187\n",
      "Epoch 53/100\n",
      "226/226 [==============================] - 260s 1s/step - loss: 0.9706 - accuracy: 0.6367 - val_loss: 1.0447 - val_accuracy: 0.6122\n",
      "Epoch 54/100\n",
      "226/226 [==============================] - 267s 1s/step - loss: 0.9586 - accuracy: 0.6404 - val_loss: 1.0482 - val_accuracy: 0.6097\n",
      "Epoch 55/100\n",
      "226/226 [==============================] - 324s 1s/step - loss: 0.9502 - accuracy: 0.6453 - val_loss: 1.0353 - val_accuracy: 0.6185\n",
      "Epoch 56/100\n",
      "226/226 [==============================] - 381s 2s/step - loss: 0.9495 - accuracy: 0.6420 - val_loss: 1.0307 - val_accuracy: 0.6192\n",
      "Epoch 57/100\n"
     ]
    },
    {
     "name": "stdout",
     "output_type": "stream",
     "text": [
      "226/226 [==============================] - 253s 1s/step - loss: 0.9378 - accuracy: 0.6507 - val_loss: 1.0360 - val_accuracy: 0.6234\n",
      "Epoch 58/100\n",
      "226/226 [==============================] - 293s 1s/step - loss: 0.9286 - accuracy: 0.6513 - val_loss: 1.0372 - val_accuracy: 0.6170\n",
      "Epoch 59/100\n",
      "226/226 [==============================] - 502s 2s/step - loss: 0.9295 - accuracy: 0.6522 - val_loss: 1.0285 - val_accuracy: 0.6245\n",
      "Epoch 60/100\n",
      "226/226 [==============================] - 258s 1s/step - loss: 0.9250 - accuracy: 0.6559 - val_loss: 1.0287 - val_accuracy: 0.6217\n",
      "Epoch 61/100\n",
      "226/226 [==============================] - 518s 2s/step - loss: 0.9152 - accuracy: 0.6588 - val_loss: 1.0283 - val_accuracy: 0.6187\n",
      "Epoch 62/100\n",
      "226/226 [==============================] - 265s 1s/step - loss: 0.9130 - accuracy: 0.6631 - val_loss: 1.0237 - val_accuracy: 0.6264\n",
      "Epoch 63/100\n",
      "226/226 [==============================] - 280s 1s/step - loss: 0.9083 - accuracy: 0.6621 - val_loss: 1.0297 - val_accuracy: 0.6250\n",
      "Epoch 64/100\n",
      "226/226 [==============================] - 273s 1s/step - loss: 0.8977 - accuracy: 0.6687 - val_loss: 1.0338 - val_accuracy: 0.6258\n",
      "Epoch 65/100\n",
      "226/226 [==============================] - 271s 1s/step - loss: 0.8980 - accuracy: 0.6681 - val_loss: 1.0392 - val_accuracy: 0.6210\n",
      "Epoch 66/100\n",
      "226/226 [==============================] - 264s 1s/step - loss: 0.9004 - accuracy: 0.6666 - val_loss: 1.0254 - val_accuracy: 0.6241\n",
      "Epoch 67/100\n",
      "226/226 [==============================] - 264s 1s/step - loss: 0.8974 - accuracy: 0.6677 - val_loss: 1.0357 - val_accuracy: 0.6216\n",
      "Epoch 68/100\n",
      "226/226 [==============================] - 266s 1s/step - loss: 0.8875 - accuracy: 0.6744 - val_loss: 1.0319 - val_accuracy: 0.6247\n",
      "Epoch 69/100\n",
      "226/226 [==============================] - 268s 1s/step - loss: 0.8840 - accuracy: 0.6727 - val_loss: 1.0214 - val_accuracy: 0.6248\n",
      "Epoch 70/100\n",
      "226/226 [==============================] - 262s 1s/step - loss: 0.8754 - accuracy: 0.6750 - val_loss: 1.0311 - val_accuracy: 0.6234\n",
      "Epoch 71/100\n",
      "226/226 [==============================] - 265s 1s/step - loss: 0.8668 - accuracy: 0.6760 - val_loss: 1.0305 - val_accuracy: 0.6238\n",
      "Epoch 72/100\n",
      "226/226 [==============================] - 265s 1s/step - loss: 0.8663 - accuracy: 0.6805 - val_loss: 1.0246 - val_accuracy: 0.6231\n",
      "Epoch 73/100\n",
      "226/226 [==============================] - 272s 1s/step - loss: 0.8689 - accuracy: 0.6789 - val_loss: 1.0310 - val_accuracy: 0.6257\n",
      "Epoch 74/100\n",
      "226/226 [==============================] - 283s 1s/step - loss: 0.8655 - accuracy: 0.6805 - val_loss: 1.0264 - val_accuracy: 0.6262\n",
      "Epoch 75/100\n",
      "226/226 [==============================] - 297s 1s/step - loss: 0.8609 - accuracy: 0.6828 - val_loss: 1.0336 - val_accuracy: 0.6234\n",
      "Epoch 76/100\n",
      "226/226 [==============================] - 296s 1s/step - loss: 0.8415 - accuracy: 0.6867 - val_loss: 1.0292 - val_accuracy: 0.6322\n",
      "Epoch 77/100\n",
      "226/226 [==============================] - 296s 1s/step - loss: 0.8498 - accuracy: 0.6858 - val_loss: 1.0273 - val_accuracy: 0.6255\n",
      "Epoch 78/100\n",
      "226/226 [==============================] - 298s 1s/step - loss: 0.8467 - accuracy: 0.6851 - val_loss: 1.0311 - val_accuracy: 0.6325\n",
      "Epoch 79/100\n",
      "226/226 [==============================] - 269s 1s/step - loss: 0.8385 - accuracy: 0.6876 - val_loss: 1.0302 - val_accuracy: 0.6311\n",
      "Epoch 80/100\n",
      "226/226 [==============================] - 530s 2s/step - loss: 0.8302 - accuracy: 0.6965 - val_loss: 1.0283 - val_accuracy: 0.6332\n",
      "Epoch 81/100\n",
      "226/226 [==============================] - 263s 1s/step - loss: 0.8222 - accuracy: 0.6982 - val_loss: 1.0360 - val_accuracy: 0.6322\n",
      "Epoch 82/100\n",
      "226/226 [==============================] - 267s 1s/step - loss: 0.8286 - accuracy: 0.6938 - val_loss: 1.0253 - val_accuracy: 0.6296\n",
      "Epoch 83/100\n",
      "226/226 [==============================] - 263s 1s/step - loss: 0.8181 - accuracy: 0.6993 - val_loss: 1.0287 - val_accuracy: 0.6282\n",
      "Epoch 84/100\n",
      "226/226 [==============================] - 262s 1s/step - loss: 0.8241 - accuracy: 0.6978 - val_loss: 1.0190 - val_accuracy: 0.6319\n",
      "Epoch 85/100\n",
      "226/226 [==============================] - 263s 1s/step - loss: 0.8173 - accuracy: 0.7001 - val_loss: 1.0304 - val_accuracy: 0.6339\n",
      "Epoch 86/100\n",
      "226/226 [==============================] - 262s 1s/step - loss: 0.8190 - accuracy: 0.6995 - val_loss: 1.0209 - val_accuracy: 0.6349\n",
      "Epoch 87/100\n",
      "226/226 [==============================] - 273s 1s/step - loss: 0.8097 - accuracy: 0.7010 - val_loss: 1.0250 - val_accuracy: 0.6301\n",
      "Epoch 88/100\n",
      "226/226 [==============================] - 945s 4s/step - loss: 0.8064 - accuracy: 0.7030 - val_loss: 1.0161 - val_accuracy: 0.6381\n",
      "Epoch 89/100\n",
      "226/226 [==============================] - 259s 1s/step - loss: 0.7919 - accuracy: 0.7088 - val_loss: 1.0286 - val_accuracy: 0.6306\n",
      "Epoch 90/100\n",
      "226/226 [==============================] - 267s 1s/step - loss: 0.7991 - accuracy: 0.7040 - val_loss: 1.0284 - val_accuracy: 0.6296\n",
      "Epoch 91/100\n",
      "226/226 [==============================] - 264s 1s/step - loss: 0.7810 - accuracy: 0.7158 - val_loss: 1.0512 - val_accuracy: 0.6311\n",
      "Epoch 92/100\n",
      "226/226 [==============================] - 271s 1s/step - loss: 0.7875 - accuracy: 0.7133 - val_loss: 1.0198 - val_accuracy: 0.6337\n",
      "Epoch 93/100\n",
      "226/226 [==============================] - 269s 1s/step - loss: 0.7873 - accuracy: 0.7135 - val_loss: 1.0205 - val_accuracy: 0.6352\n",
      "Epoch 94/100\n",
      "226/226 [==============================] - 293s 1s/step - loss: 0.7834 - accuracy: 0.7131 - val_loss: 1.0449 - val_accuracy: 0.6312\n",
      "Epoch 95/100\n",
      "226/226 [==============================] - 278s 1s/step - loss: 0.7787 - accuracy: 0.7160 - val_loss: 1.0518 - val_accuracy: 0.6308\n",
      "Epoch 96/100\n",
      "226/226 [==============================] - 270s 1s/step - loss: 0.7746 - accuracy: 0.7173 - val_loss: 1.0428 - val_accuracy: 0.6252\n",
      "Epoch 97/100\n",
      "226/226 [==============================] - 266s 1s/step - loss: 0.7614 - accuracy: 0.7240 - val_loss: 1.0291 - val_accuracy: 0.6353\n",
      "Epoch 98/100\n",
      "226/226 [==============================] - 260s 1s/step - loss: 0.7802 - accuracy: 0.7141 - val_loss: 1.0162 - val_accuracy: 0.6412\n",
      "Epoch 99/100\n",
      "226/226 [==============================] - 267s 1s/step - loss: 0.7640 - accuracy: 0.7209 - val_loss: 1.0165 - val_accuracy: 0.6360\n",
      "Epoch 100/100\n",
      "226/226 [==============================] - 270s 1s/step - loss: 0.7577 - accuracy: 0.7260 - val_loss: 1.0325 - val_accuracy: 0.6305\n"
     ]
    },
    {
     "data": {
      "text/plain": [
       "<keras.callbacks.History at 0x17f2d87e220>"
      ]
     },
     "execution_count": 27,
     "metadata": {},
     "output_type": "execute_result"
    }
   ],
   "source": [
    "model.fit(x= x_train,y = y_train, batch_size = 128, epochs = 100, validation_data = (x_test,y_test))"
   ]
  },
  {
   "cell_type": "code",
   "execution_count": 28,
   "id": "d3fcad5a",
   "metadata": {},
   "outputs": [],
   "source": [
    "model_json = model.to_json()\n",
    "with open(\"emotiondetector.json\",'w') as json_file:\n",
    "    json_file.write(model_json)\n",
    "model.save(\"emotiondetector.h5\")"
   ]
  },
  {
   "cell_type": "code",
   "execution_count": 29,
   "id": "aad0e464",
   "metadata": {},
   "outputs": [],
   "source": [
    "from keras.models import model_from_json"
   ]
  },
  {
   "cell_type": "code",
   "execution_count": 31,
   "id": "2a1d0551",
   "metadata": {},
   "outputs": [],
   "source": [
    "json_file = open(\"emotiondetector.json\", \"r\")\n",
    "model_json = json_file.read()\n",
    "json_file.close()\n",
    "model = model_from_json(model_json)\n",
    "model.load_weights(\"emotiondetector.h5\")"
   ]
  },
  {
   "cell_type": "code",
   "execution_count": 32,
   "id": "b1a72d05",
   "metadata": {},
   "outputs": [],
   "source": [
    "label = ['angry','disgust','fear','happy','neutral','sad','surprise']"
   ]
  },
  {
   "cell_type": "code",
   "execution_count": 33,
   "id": "9016cce4",
   "metadata": {},
   "outputs": [],
   "source": [
    "def ef(image):\n",
    "    img = load_img(image,grayscale =  True )\n",
    "    feature = np.array(img)\n",
    "    feature = feature.reshape(1,48,48,1)\n",
    "    return feature/255.0"
   ]
  },
  {
   "cell_type": "code",
   "execution_count": 41,
   "id": "12ad179f",
   "metadata": {},
   "outputs": [
    {
     "name": "stdout",
     "output_type": "stream",
     "text": [
      "original image is of sad\n",
      "1/1 [==============================] - 0s 94ms/step\n",
      "model prediction is  sad\n"
     ]
    }
   ],
   "source": [
    "image = 'images/train/sad/42.jpg'\n",
    "print(\"original image is of sad\")\n",
    "img = ef(image)\n",
    "pred = model.predict(img)\n",
    "pred_label = label[pred.argmax()]\n",
    "print(\"model prediction is \",pred_label)"
   ]
  },
  {
   "cell_type": "code",
   "execution_count": 36,
   "id": "911a73b2",
   "metadata": {},
   "outputs": [
    {
     "name": "stdout",
     "output_type": "stream",
     "text": [
      "Collecting matplotlib\n",
      "  Obtaining dependency information for matplotlib from https://files.pythonhosted.org/packages/01/50/0d8d8f044e2a0d8151e9ed59fe50924e9e697ba43a8b12d5ff9b45adb871/matplotlib-3.8.0-cp39-cp39-win_amd64.whl.metadata\n",
      "  Downloading matplotlib-3.8.0-cp39-cp39-win_amd64.whl.metadata (5.9 kB)\n",
      "Collecting contourpy>=1.0.1 (from matplotlib)\n",
      "  Obtaining dependency information for contourpy>=1.0.1 from https://files.pythonhosted.org/packages/87/2b/9b49451f7412cc1a79198e94a771a4e52d65c479aae610b1161c0290ef2c/contourpy-1.1.1-cp39-cp39-win_amd64.whl.metadata\n",
      "  Downloading contourpy-1.1.1-cp39-cp39-win_amd64.whl.metadata (5.9 kB)\n",
      "Collecting cycler>=0.10 (from matplotlib)\n",
      "  Obtaining dependency information for cycler>=0.10 from https://files.pythonhosted.org/packages/e7/05/c19819d5e3d95294a6f5947fb9b9629efb316b96de511b418c53d245aae6/cycler-0.12.1-py3-none-any.whl.metadata\n",
      "  Downloading cycler-0.12.1-py3-none-any.whl.metadata (3.8 kB)\n",
      "Collecting fonttools>=4.22.0 (from matplotlib)\n",
      "  Obtaining dependency information for fonttools>=4.22.0 from https://files.pythonhosted.org/packages/39/85/43a6d535a7cb021a673f5451f49c8f034217d58a83ab813e374bfe564ccb/fonttools-4.43.1-cp39-cp39-win_amd64.whl.metadata\n",
      "  Downloading fonttools-4.43.1-cp39-cp39-win_amd64.whl.metadata (155 kB)\n",
      "     ---------------------------------------- 0.0/155.5 kB ? eta -:--:--\n",
      "     ------- ----------------------------- 30.7/155.5 kB 660.6 kB/s eta 0:00:01\n",
      "     -------------- ---------------------- 61.4/155.5 kB 656.4 kB/s eta 0:00:01\n",
      "     -------------------------- --------- 112.6/155.5 kB 939.4 kB/s eta 0:00:01\n",
      "     --------------------------------- -- 143.4/155.5 kB 711.9 kB/s eta 0:00:01\n",
      "     ------------------------------------ 155.5/155.5 kB 715.7 kB/s eta 0:00:00\n",
      "Collecting kiwisolver>=1.0.1 (from matplotlib)\n",
      "  Obtaining dependency information for kiwisolver>=1.0.1 from https://files.pythonhosted.org/packages/ca/c1/1f986c8119c0c57c2bd71d1941da23332c38ee2c90117e46dff4358b70f7/kiwisolver-1.4.5-cp39-cp39-win_amd64.whl.metadata\n",
      "  Downloading kiwisolver-1.4.5-cp39-cp39-win_amd64.whl.metadata (6.5 kB)\n",
      "Requirement already satisfied: numpy<2,>=1.21 in c:\\users\\admin\\.conda\\envs\\tf-new\\lib\\site-packages (from matplotlib) (1.26.0)\n",
      "Requirement already satisfied: packaging>=20.0 in c:\\users\\admin\\.conda\\envs\\tf-new\\lib\\site-packages (from matplotlib) (23.1)\n",
      "Requirement already satisfied: pillow>=6.2.0 in c:\\users\\admin\\.conda\\envs\\tf-new\\lib\\site-packages (from matplotlib) (10.1.0)\n",
      "Collecting pyparsing>=2.3.1 (from matplotlib)\n",
      "  Obtaining dependency information for pyparsing>=2.3.1 from https://files.pythonhosted.org/packages/39/92/8486ede85fcc088f1b3dba4ce92dd29d126fd96b0008ea213167940a2475/pyparsing-3.1.1-py3-none-any.whl.metadata\n",
      "  Using cached pyparsing-3.1.1-py3-none-any.whl.metadata (5.1 kB)\n",
      "Requirement already satisfied: python-dateutil>=2.7 in c:\\users\\admin\\.conda\\envs\\tf-new\\lib\\site-packages (from matplotlib) (2.8.2)\n",
      "Collecting importlib-resources>=3.2.0 (from matplotlib)\n",
      "  Obtaining dependency information for importlib-resources>=3.2.0 from https://files.pythonhosted.org/packages/65/6e/09d8816b5cb7a4006ef8ad1717a2703ad9f331dae9717d9f22488a2d6469/importlib_resources-6.1.0-py3-none-any.whl.metadata\n",
      "  Downloading importlib_resources-6.1.0-py3-none-any.whl.metadata (4.1 kB)\n",
      "Requirement already satisfied: zipp>=3.1.0 in c:\\users\\admin\\.conda\\envs\\tf-new\\lib\\site-packages (from importlib-resources>=3.2.0->matplotlib) (3.11.0)\n",
      "Requirement already satisfied: six>=1.5 in c:\\users\\admin\\.conda\\envs\\tf-new\\lib\\site-packages (from python-dateutil>=2.7->matplotlib) (1.16.0)\n",
      "Downloading matplotlib-3.8.0-cp39-cp39-win_amd64.whl (7.6 MB)\n",
      "   ---------------------------------------- 0.0/7.6 MB ? eta -:--:--\n",
      "   ---------------------------------------- 0.1/7.6 MB 2.6 MB/s eta 0:00:03\n",
      "   - -------------------------------------- 0.2/7.6 MB 2.8 MB/s eta 0:00:03\n",
      "   - -------------------------------------- 0.4/7.6 MB 2.8 MB/s eta 0:00:03\n",
      "   -- ------------------------------------- 0.5/7.6 MB 2.8 MB/s eta 0:00:03\n",
      "   --- ------------------------------------ 0.6/7.6 MB 2.7 MB/s eta 0:00:03\n",
      "   --- ------------------------------------ 0.7/7.6 MB 2.8 MB/s eta 0:00:03\n",
      "   ---- ----------------------------------- 0.9/7.6 MB 2.9 MB/s eta 0:00:03\n",
      "   ----- ---------------------------------- 1.1/7.6 MB 2.9 MB/s eta 0:00:03\n",
      "   ------ --------------------------------- 1.2/7.6 MB 3.0 MB/s eta 0:00:03\n",
      "   ------- -------------------------------- 1.4/7.6 MB 3.0 MB/s eta 0:00:03\n",
      "   ------- -------------------------------- 1.4/7.6 MB 2.8 MB/s eta 0:00:03\n",
      "   ------- -------------------------------- 1.4/7.6 MB 2.8 MB/s eta 0:00:03\n",
      "   ------- -------------------------------- 1.4/7.6 MB 2.8 MB/s eta 0:00:03\n",
      "   ------- -------------------------------- 1.4/7.6 MB 2.8 MB/s eta 0:00:03\n",
      "   ------- -------------------------------- 1.4/7.6 MB 2.8 MB/s eta 0:00:03\n",
      "   ------- -------------------------------- 1.4/7.6 MB 2.8 MB/s eta 0:00:03\n",
      "   -------- ------------------------------- 1.6/7.6 MB 2.0 MB/s eta 0:00:04\n",
      "   -------- ------------------------------- 1.6/7.6 MB 2.0 MB/s eta 0:00:04\n",
      "   -------- ------------------------------- 1.6/7.6 MB 2.0 MB/s eta 0:00:04\n",
      "   -------- ------------------------------- 1.7/7.6 MB 1.8 MB/s eta 0:00:04\n",
      "   --------- ------------------------------ 1.8/7.6 MB 1.8 MB/s eta 0:00:04\n",
      "   --------- ------------------------------ 1.9/7.6 MB 1.9 MB/s eta 0:00:04\n",
      "   ---------- ----------------------------- 2.0/7.6 MB 1.9 MB/s eta 0:00:03\n",
      "   ----------- ---------------------------- 2.2/7.6 MB 1.9 MB/s eta 0:00:03\n",
      "   ------------ --------------------------- 2.3/7.6 MB 2.0 MB/s eta 0:00:03\n",
      "   ------------ --------------------------- 2.4/7.6 MB 2.0 MB/s eta 0:00:03\n",
      "   ------------- -------------------------- 2.6/7.6 MB 2.0 MB/s eta 0:00:03\n",
      "   -------------- ------------------------- 2.7/7.6 MB 2.1 MB/s eta 0:00:03\n",
      "   -------------- ------------------------- 2.9/7.6 MB 2.1 MB/s eta 0:00:03\n",
      "   --------------- ------------------------ 3.0/7.6 MB 2.1 MB/s eta 0:00:03\n",
      "   ---------------- ----------------------- 3.1/7.6 MB 2.2 MB/s eta 0:00:03\n",
      "   ---------------- ----------------------- 3.2/7.6 MB 2.2 MB/s eta 0:00:02\n",
      "   ---------------- ----------------------- 3.2/7.6 MB 2.2 MB/s eta 0:00:02\n",
      "   ---------------- ----------------------- 3.2/7.6 MB 2.2 MB/s eta 0:00:02\n",
      "   ---------------- ----------------------- 3.2/7.6 MB 2.2 MB/s eta 0:00:02\n",
      "   ---------------- ----------------------- 3.2/7.6 MB 2.2 MB/s eta 0:00:02\n",
      "   ---------------- ----------------------- 3.2/7.6 MB 2.2 MB/s eta 0:00:02\n",
      "   ---------------- ----------------------- 3.2/7.6 MB 2.2 MB/s eta 0:00:02\n",
      "   ------------------ --------------------- 3.4/7.6 MB 1.9 MB/s eta 0:00:03\n",
      "   ------------------ --------------------- 3.4/7.6 MB 1.9 MB/s eta 0:00:03\n",
      "   ------------------ --------------------- 3.6/7.6 MB 1.8 MB/s eta 0:00:03\n",
      "   ------------------ --------------------- 3.6/7.6 MB 1.8 MB/s eta 0:00:03\n",
      "   ------------------- -------------------- 3.6/7.6 MB 1.8 MB/s eta 0:00:03\n",
      "   ------------------- -------------------- 3.7/7.6 MB 1.8 MB/s eta 0:00:03\n",
      "   ------------------- -------------------- 3.7/7.6 MB 1.8 MB/s eta 0:00:03\n",
      "   ------------------- -------------------- 3.8/7.6 MB 1.8 MB/s eta 0:00:03\n",
      "   -------------------- ------------------- 3.9/7.6 MB 1.8 MB/s eta 0:00:03\n",
      "   -------------------- ------------------- 4.0/7.6 MB 1.7 MB/s eta 0:00:03\n",
      "   --------------------- ------------------ 4.0/7.6 MB 1.8 MB/s eta 0:00:03\n",
      "   --------------------- ------------------ 4.1/7.6 MB 1.8 MB/s eta 0:00:03\n",
      "   ---------------------- ----------------- 4.2/7.6 MB 1.8 MB/s eta 0:00:02\n",
      "   ---------------------- ----------------- 4.3/7.6 MB 1.8 MB/s eta 0:00:02\n",
      "   ---------------------- ----------------- 4.4/7.6 MB 1.8 MB/s eta 0:00:02\n",
      "   ----------------------- ---------------- 4.5/7.6 MB 1.8 MB/s eta 0:00:02\n",
      "   ----------------------- ---------------- 4.5/7.6 MB 1.7 MB/s eta 0:00:02\n",
      "   ----------------------- ---------------- 4.5/7.6 MB 1.7 MB/s eta 0:00:02\n",
      "   ----------------------- ---------------- 4.5/7.6 MB 1.7 MB/s eta 0:00:02\n",
      "   ----------------------- ---------------- 4.5/7.6 MB 1.7 MB/s eta 0:00:02\n",
      "   ----------------------- ---------------- 4.5/7.6 MB 1.7 MB/s eta 0:00:02\n",
      "   ------------------------ --------------- 4.6/7.6 MB 1.6 MB/s eta 0:00:02\n",
      "   ------------------------ --------------- 4.6/7.6 MB 1.6 MB/s eta 0:00:02\n",
      "   ------------------------ --------------- 4.7/7.6 MB 1.6 MB/s eta 0:00:02\n",
      "   ------------------------ --------------- 4.7/7.6 MB 1.6 MB/s eta 0:00:02\n",
      "   ------------------------- -------------- 4.8/7.6 MB 1.6 MB/s eta 0:00:02\n",
      "   ------------------------- -------------- 4.9/7.6 MB 1.6 MB/s eta 0:00:02\n",
      "   ------------------------- -------------- 4.9/7.6 MB 1.6 MB/s eta 0:00:02\n",
      "   -------------------------- ------------- 5.0/7.6 MB 1.6 MB/s eta 0:00:02\n",
      "   -------------------------- ------------- 5.1/7.6 MB 1.6 MB/s eta 0:00:02\n",
      "   --------------------------- ------------ 5.2/7.6 MB 1.6 MB/s eta 0:00:02\n",
      "   --------------------------- ------------ 5.3/7.6 MB 1.6 MB/s eta 0:00:02\n",
      "   --------------------------- ------------ 5.3/7.6 MB 1.6 MB/s eta 0:00:02\n",
      "   ---------------------------- ----------- 5.4/7.6 MB 1.6 MB/s eta 0:00:02\n",
      "   ---------------------------- ----------- 5.5/7.6 MB 1.6 MB/s eta 0:00:02\n",
      "   ----------------------------- ---------- 5.6/7.6 MB 1.6 MB/s eta 0:00:02\n",
      "   ----------------------------- ---------- 5.7/7.6 MB 1.6 MB/s eta 0:00:02\n",
      "   ----------------------------- ---------- 5.7/7.6 MB 1.6 MB/s eta 0:00:02\n",
      "   ----------------------------- ---------- 5.7/7.6 MB 1.6 MB/s eta 0:00:02\n",
      "   ----------------------------- ---------- 5.7/7.6 MB 1.6 MB/s eta 0:00:02\n",
      "   ----------------------------- ---------- 5.7/7.6 MB 1.6 MB/s eta 0:00:02\n",
      "   ----------------------------- ---------- 5.7/7.6 MB 1.6 MB/s eta 0:00:02\n",
      "   ----------------------------- ---------- 5.7/7.6 MB 1.6 MB/s eta 0:00:02\n",
      "   ----------------------------- ---------- 5.7/7.6 MB 1.6 MB/s eta 0:00:02\n",
      "   ----------------------------- ---------- 5.7/7.6 MB 1.6 MB/s eta 0:00:02\n",
      "   ----------------------------- ---------- 5.7/7.6 MB 1.6 MB/s eta 0:00:02\n",
      "   ----------------------------- ---------- 5.7/7.6 MB 1.6 MB/s eta 0:00:02\n",
      "   ------------------------------ --------- 5.8/7.6 MB 1.4 MB/s eta 0:00:02\n",
      "   ------------------------------ --------- 5.8/7.6 MB 1.4 MB/s eta 0:00:02\n",
      "   ------------------------------ --------- 5.8/7.6 MB 1.4 MB/s eta 0:00:02\n",
      "   ------------------------------ --------- 5.8/7.6 MB 1.4 MB/s eta 0:00:02\n",
      "   ------------------------------ --------- 5.8/7.6 MB 1.4 MB/s eta 0:00:02\n",
      "   ------------------------------ --------- 5.8/7.6 MB 1.4 MB/s eta 0:00:02\n",
      "   ------------------------------ --------- 5.8/7.6 MB 1.4 MB/s eta 0:00:02\n",
      "   ------------------------------ --------- 5.9/7.6 MB 1.3 MB/s eta 0:00:02\n",
      "   ------------------------------- -------- 6.0/7.6 MB 1.4 MB/s eta 0:00:02\n",
      "   ------------------------------- -------- 6.1/7.6 MB 1.4 MB/s eta 0:00:02\n",
      "   -------------------------------- ------- 6.1/7.6 MB 1.4 MB/s eta 0:00:02\n",
      "   -------------------------------- ------- 6.2/7.6 MB 1.4 MB/s eta 0:00:02\n",
      "   -------------------------------- ------- 6.2/7.6 MB 1.4 MB/s eta 0:00:02\n",
      "   --------------------------------- ------ 6.3/7.6 MB 1.4 MB/s eta 0:00:01\n",
      "   --------------------------------- ------ 6.3/7.6 MB 1.4 MB/s eta 0:00:01\n",
      "   --------------------------------- ------ 6.3/7.6 MB 1.4 MB/s eta 0:00:01\n",
      "   --------------------------------- ------ 6.3/7.6 MB 1.4 MB/s eta 0:00:01\n",
      "   --------------------------------- ------ 6.3/7.6 MB 1.4 MB/s eta 0:00:01\n",
      "   --------------------------------- ------ 6.3/7.6 MB 1.4 MB/s eta 0:00:01\n",
      "   --------------------------------- ------ 6.5/7.6 MB 1.3 MB/s eta 0:00:01\n",
      "   --------------------------------- ------ 6.5/7.6 MB 1.3 MB/s eta 0:00:01\n",
      "   ---------------------------------- ----- 6.5/7.6 MB 1.3 MB/s eta 0:00:01\n",
      "   ---------------------------------- ----- 6.6/7.6 MB 1.3 MB/s eta 0:00:01\n",
      "   ----------------------------------- ---- 6.7/7.6 MB 1.3 MB/s eta 0:00:01\n",
      "   ----------------------------------- ---- 6.8/7.6 MB 1.3 MB/s eta 0:00:01\n",
      "   ------------------------------------ --- 7.0/7.6 MB 1.3 MB/s eta 0:00:01\n",
      "   ------------------------------------- -- 7.1/7.6 MB 1.3 MB/s eta 0:00:01\n",
      "   ------------------------------------- -- 7.2/7.6 MB 1.4 MB/s eta 0:00:01\n",
      "   -------------------------------------- - 7.4/7.6 MB 1.4 MB/s eta 0:00:01\n",
      "   ---------------------------------------  7.5/7.6 MB 1.4 MB/s eta 0:00:01\n",
      "   ---------------------------------------  7.6/7.6 MB 1.4 MB/s eta 0:00:01\n",
      "   ---------------------------------------  7.6/7.6 MB 1.4 MB/s eta 0:00:01\n",
      "   ---------------------------------------- 7.6/7.6 MB 1.4 MB/s eta 0:00:00\n",
      "Downloading contourpy-1.1.1-cp39-cp39-win_amd64.whl (435 kB)\n",
      "   ---------------------------------------- 0.0/436.0 kB ? eta -:--:--\n",
      "   --------------- ------------------------ 163.8/436.0 kB 9.6 MB/s eta 0:00:01\n",
      "   -------------------- ------------------- 225.3/436.0 kB 2.8 MB/s eta 0:00:01\n",
      "   -------------------------------- ------- 358.4/436.0 kB 2.8 MB/s eta 0:00:01\n",
      "   ---------------------------------------- 436.0/436.0 kB 2.3 MB/s eta 0:00:00\n",
      "Downloading cycler-0.12.1-py3-none-any.whl (8.3 kB)\n",
      "Downloading fonttools-4.43.1-cp39-cp39-win_amd64.whl (2.1 MB)\n",
      "   ---------------------------------------- 0.0/2.1 MB ? eta -:--:--\n",
      "   --- ------------------------------------ 0.2/2.1 MB 9.6 MB/s eta 0:00:01\n",
      "   ----- ---------------------------------- 0.3/2.1 MB 4.4 MB/s eta 0:00:01\n",
      "   -------- ------------------------------- 0.5/2.1 MB 4.2 MB/s eta 0:00:01\n",
      "   ----------- ---------------------------- 0.6/2.1 MB 3.9 MB/s eta 0:00:01\n",
      "   --------------- ------------------------ 0.8/2.1 MB 4.1 MB/s eta 0:00:01\n",
      "   ------------------- -------------------- 1.0/2.1 MB 3.8 MB/s eta 0:00:01\n",
      "   ---------------------- ----------------- 1.2/2.1 MB 3.8 MB/s eta 0:00:01\n",
      "   ------------------------- -------------- 1.4/2.1 MB 4.0 MB/s eta 0:00:01\n",
      "   ------------------------------ --------- 1.6/2.1 MB 4.1 MB/s eta 0:00:01\n",
      "   ---------------------------------- ----- 1.8/2.1 MB 4.0 MB/s eta 0:00:01\n",
      "   ---------------------------------------  2.1/2.1 MB 4.1 MB/s eta 0:00:01\n",
      "   ---------------------------------------  2.1/2.1 MB 3.8 MB/s eta 0:00:01\n",
      "   ---------------------------------------- 2.1/2.1 MB 3.5 MB/s eta 0:00:00\n",
      "Downloading importlib_resources-6.1.0-py3-none-any.whl (33 kB)\n",
      "Downloading kiwisolver-1.4.5-cp39-cp39-win_amd64.whl (56 kB)\n",
      "   ---------------------------------------- 0.0/56.2 kB ? eta -:--:--\n",
      "   ---------------------------------------- 56.2/56.2 kB 1.5 MB/s eta 0:00:00\n",
      "Using cached pyparsing-3.1.1-py3-none-any.whl (103 kB)\n",
      "Installing collected packages: pyparsing, kiwisolver, importlib-resources, fonttools, cycler, contourpy, matplotlib\n",
      "Successfully installed contourpy-1.1.1 cycler-0.12.1 fonttools-4.43.1 importlib-resources-6.1.0 kiwisolver-1.4.5 matplotlib-3.8.0 pyparsing-3.1.1\n",
      "Note: you may need to restart the kernel to use updated packages.\n"
     ]
    }
   ],
   "source": [
    "pip install matplotlib"
   ]
  },
  {
   "cell_type": "code",
   "execution_count": 37,
   "id": "ac609cf2",
   "metadata": {},
   "outputs": [],
   "source": [
    "import matplotlib.pyplot as plt\n",
    "%matplotlib inline"
   ]
  },
  {
   "cell_type": "code",
   "execution_count": 42,
   "id": "60c7026b",
   "metadata": {},
   "outputs": [
    {
     "name": "stdout",
     "output_type": "stream",
     "text": [
      "original image is of sad\n",
      "1/1 [==============================] - 0s 79ms/step\n",
      "model prediction is  sad\n"
     ]
    },
    {
     "data": {
      "text/plain": [
       "<matplotlib.image.AxesImage at 0x17f35e75a60>"
      ]
     },
     "execution_count": 42,
     "metadata": {},
     "output_type": "execute_result"
    },
    {
     "data": {
      "image/png": "[encoded data removed]",
      "text/plain": [
       "<Figure size 640x480 with 1 Axes>"
      ]
     },
     "metadata": {},
     "output_type": "display_data"
    }
   ],
   "source": [
    "image = 'images/train/sad/42.jpg'\n",
    "print(\"original image is of sad\")\n",
    "img = ef(image)\n",
    "pred = model.predict(img)\n",
    "pred_label = label[pred.argmax()]\n",
    "print(\"model prediction is \",pred_label)\n",
    "plt.imshow(img.reshape(48,48),cmap='gray')"
   ]
  },
  {
   "cell_type": "code",
   "execution_count": 45,
   "id": "efeed947",
   "metadata": {},
   "outputs": [
    {
     "name": "stdout",
     "output_type": "stream",
     "text": [
      "original image is of fear\n",
      "1/1 [==============================] - 0s 78ms/step\n",
      "model prediction is  fear\n"
     ]
    },
    {
     "data": {
      "text/plain": [
       "<matplotlib.image.AxesImage at 0x17f36f33220>"
      ]
     },
     "execution_count": 45,
     "metadata": {},
     "output_type": "execute_result"
    },
    {
     "data": {
      "image/png": "[encoded data removed]",
      "text/plain": [
       "<Figure size 640x480 with 1 Axes>"
      ]
     },
     "metadata": {},
     "output_type": "display_data"
    }
   ],
   "source": [
    "image = 'images/train/fear/300.jpg'\n",
    "print(\"original image is of fear\")\n",
    "img = ef(image)\n",
    "pred = model.predict(img)\n",
    "pred_label = label[pred.argmax()]\n",
    "print(\"model prediction is \",pred_label)\n",
    "plt.imshow(img.reshape(48,48),cmap='gray')"
   ]
  },
  {
   "cell_type": "code",
   "execution_count": 47,
   "id": "65683a29",
   "metadata": {},
   "outputs": [
    {
     "name": "stdout",
     "output_type": "stream",
     "text": [
      "original image is of disgust\n",
      "1/1 [==============================] - 0s 79ms/step\n",
      "model prediction is  disgust\n"
     ]
    },
    {
     "data": {
      "text/plain": [
       "<matplotlib.image.AxesImage at 0x17f3700dd30>"
      ]
     },
     "execution_count": 47,
     "metadata": {},
     "output_type": "execute_result"
    },
    {
     "data": {
      "image/png": "[encoded data removed]",
      "text/plain": [
       "<Figure size 640x480 with 1 Axes>"
      ]
     },
     "metadata": {},
     "output_type": "display_data"
    }
   ],
   "source": [
    "image = 'images/train/disgust/4805.jpg'\n",
    "print(\"original image is of disgust\")\n",
    "img = ef(image)\n",
    "pred = model.predict(img)\n",
    "pred_label = label[pred.argmax()]\n",
    "print(\"model prediction is \",pred_label)\n",
    "plt.imshow(img.reshape(48,48),cmap='gray')"
   ]
  },
  {
   "cell_type": "code",
   "execution_count": 48,
   "id": "425dfa9d",
   "metadata": {},
   "outputs": [
    {
     "name": "stdout",
     "output_type": "stream",
     "text": [
      "original image is of happy\n",
      "1/1 [==============================] - 0s 78ms/step\n",
      "model prediction is  happy\n"
     ]
    },
    {
     "data": {
      "text/plain": [
       "<matplotlib.image.AxesImage at 0x17f323c12b0>"
      ]
     },
     "execution_count": 48,
     "metadata": {},
     "output_type": "execute_result"
    },
    {
     "data": {
      "image/png": "[encoded data removed]",
      "text/plain": [
       "<Figure size 640x480 with 1 Axes>"
      ]
     },
     "metadata": {},
     "output_type": "display_data"
    }
   ],
   "source": [
    "image = 'images/train/happy/7.jpg'\n",
    "print(\"original image is of happy\")\n",
    "img = ef(image)\n",
    "pred = model.predict(img)\n",
    "pred_label = label[pred.argmax()]\n",
    "print(\"model prediction is \",pred_label)\n",
    "plt.imshow(img.reshape(48,48),cmap='gray')"
   ]
  },
  {
   "cell_type": "code",
   "execution_count": 49,
   "id": "77b6eb89",
   "metadata": {},
   "outputs": [
    {
     "name": "stdout",
     "output_type": "stream",
     "text": [
      "original image is of surprise\n",
      "1/1 [==============================] - 0s 79ms/step\n",
      "model prediction is  surprise\n"
     ]
    },
    {
     "data": {
      "text/plain": [
       "<matplotlib.image.AxesImage at 0x17f67955c10>"
      ]
     },
     "execution_count": 49,
     "metadata": {},
     "output_type": "execute_result"
    },
    {
     "data": {
      "image/png": "[encoded data removed]",
      "text/plain": [
       "<Figure size 640x480 with 1 Axes>"
      ]
     },
     "metadata": {},
     "output_type": "display_data"
    }
   ],
   "source": [
    "image = 'images/train/surprise/15.jpg'\n",
    "print(\"original image is of surprise\")\n",
    "img = ef(image)\n",
    "pred = model.predict(img)\n",
    "pred_label = label[pred.argmax()]\n",
    "print(\"model prediction is \",pred_label)\n",
    "plt.imshow(img.reshape(48,48),cmap='gray')"
   ]
  },
  {
   "cell_type": "code",
   "execution_count": null,
   "id": "02f83493",
   "metadata": {},
   "outputs": [],
   "source": []
  }
 ],
 "metadata": {
  "kernelspec": {
   "display_name": "Python 3 (ipykernel)",
   "language": "python",
   "name": "python3"
  },
  "language_info": {
   "codemirror_mode": {
    "name": "ipython",
    "version": 3
   },
   "file_extension": ".py",
   "mimetype": "text/x-python",
   "name": "python",
   "nbconvert_exporter": "python",
   "pygments_lexer": "ipython3",
   "version": "3.9.18"
  }
 },
 "nbformat": 4,
 "nbformat_minor": 5
}
